{
 "cells": [
  {
   "cell_type": "markdown",
   "id": "ac406db1",
   "metadata": {},
   "source": [
    "Salary Analysis\n",
    "===============\n",
    "This projects aims to analyse salaris in the tech industry. The dataset used for this projects is sourced from Kaggle."
   ]
  },
  {
   "cell_type": "code",
   "execution_count": 28,
   "id": "b228356d",
   "metadata": {},
   "outputs": [],
   "source": [
    "# Import libraries\n",
    "import numpy as np\n",
    "import matplotlib.pyplot as plt\n",
    "import pandas as pd\n",
    "import janitor\n",
    "import seaborn as sns\n",
    "import warnings \n",
    "warnings.filterwarnings(\"ignore\")"
   ]
  },
  {
   "cell_type": "code",
   "execution_count": 3,
   "id": "440f842a",
   "metadata": {},
   "outputs": [
    {
     "data": {
      "text/html": [
       "<div>\n",
       "<style scoped>\n",
       "    .dataframe tbody tr th:only-of-type {\n",
       "        vertical-align: middle;\n",
       "    }\n",
       "\n",
       "    .dataframe tbody tr th {\n",
       "        vertical-align: top;\n",
       "    }\n",
       "\n",
       "    .dataframe thead th {\n",
       "        text-align: right;\n",
       "    }\n",
       "</style>\n",
       "<table border=\"1\" class=\"dataframe\">\n",
       "  <thead>\n",
       "    <tr style=\"text-align: right;\">\n",
       "      <th></th>\n",
       "      <th>id</th>\n",
       "      <th>work_year</th>\n",
       "      <th>experience_level</th>\n",
       "      <th>job_title</th>\n",
       "      <th>salary</th>\n",
       "      <th>salary_currency</th>\n",
       "      <th>salary_in_usd</th>\n",
       "      <th>employee_residence</th>\n",
       "      <th>remote_ratio</th>\n",
       "      <th>company_location</th>\n",
       "      <th>company_size</th>\n",
       "      <th>employment_type</th>\n",
       "    </tr>\n",
       "  </thead>\n",
       "  <tbody>\n",
       "    <tr>\n",
       "      <th>0</th>\n",
       "      <td>0</td>\n",
       "      <td>2020</td>\n",
       "      <td>MI</td>\n",
       "      <td>Data Scientist</td>\n",
       "      <td>70000</td>\n",
       "      <td>EUR</td>\n",
       "      <td>79833</td>\n",
       "      <td>DE</td>\n",
       "      <td>0</td>\n",
       "      <td>DE</td>\n",
       "      <td>L</td>\n",
       "      <td>FT</td>\n",
       "    </tr>\n",
       "    <tr>\n",
       "      <th>1</th>\n",
       "      <td>1</td>\n",
       "      <td>2020</td>\n",
       "      <td>SE</td>\n",
       "      <td>Machine Learning Scientist</td>\n",
       "      <td>260000</td>\n",
       "      <td>USD</td>\n",
       "      <td>260000</td>\n",
       "      <td>JP</td>\n",
       "      <td>0</td>\n",
       "      <td>JP</td>\n",
       "      <td>S</td>\n",
       "      <td>FT</td>\n",
       "    </tr>\n",
       "    <tr>\n",
       "      <th>2</th>\n",
       "      <td>2</td>\n",
       "      <td>2020</td>\n",
       "      <td>SE</td>\n",
       "      <td>Big Data Engineer</td>\n",
       "      <td>85000</td>\n",
       "      <td>GBP</td>\n",
       "      <td>109024</td>\n",
       "      <td>GB</td>\n",
       "      <td>50</td>\n",
       "      <td>GB</td>\n",
       "      <td>M</td>\n",
       "      <td>FT</td>\n",
       "    </tr>\n",
       "    <tr>\n",
       "      <th>3</th>\n",
       "      <td>3</td>\n",
       "      <td>2020</td>\n",
       "      <td>MI</td>\n",
       "      <td>Product Data Analyst</td>\n",
       "      <td>20000</td>\n",
       "      <td>USD</td>\n",
       "      <td>20000</td>\n",
       "      <td>HN</td>\n",
       "      <td>0</td>\n",
       "      <td>HN</td>\n",
       "      <td>S</td>\n",
       "      <td>FT</td>\n",
       "    </tr>\n",
       "    <tr>\n",
       "      <th>4</th>\n",
       "      <td>4</td>\n",
       "      <td>2020</td>\n",
       "      <td>SE</td>\n",
       "      <td>Machine Learning Engineer</td>\n",
       "      <td>150000</td>\n",
       "      <td>USD</td>\n",
       "      <td>150000</td>\n",
       "      <td>US</td>\n",
       "      <td>50</td>\n",
       "      <td>US</td>\n",
       "      <td>L</td>\n",
       "      <td>FT</td>\n",
       "    </tr>\n",
       "  </tbody>\n",
       "</table>\n",
       "</div>"
      ],
      "text/plain": [
       "   id  work_year experience_level                   job_title  salary  \\\n",
       "0   0       2020               MI              Data Scientist   70000   \n",
       "1   1       2020               SE  Machine Learning Scientist  260000   \n",
       "2   2       2020               SE           Big Data Engineer   85000   \n",
       "3   3       2020               MI        Product Data Analyst   20000   \n",
       "4   4       2020               SE   Machine Learning Engineer  150000   \n",
       "\n",
       "  salary_currency  salary_in_usd employee_residence  remote_ratio  \\\n",
       "0             EUR          79833                 DE             0   \n",
       "1             USD         260000                 JP             0   \n",
       "2             GBP         109024                 GB            50   \n",
       "3             USD          20000                 HN             0   \n",
       "4             USD         150000                 US            50   \n",
       "\n",
       "  company_location company_size employment_type  \n",
       "0               DE            L              FT  \n",
       "1               JP            S              FT  \n",
       "2               GB            M              FT  \n",
       "3               HN            S              FT  \n",
       "4               US            L              FT  "
      ]
     },
     "execution_count": 3,
     "metadata": {},
     "output_type": "execute_result"
    }
   ],
   "source": [
    "# Load the dataset \n",
    "df = pd.read_csv(\"../00_raw_data/ds_salaries.csv\")\n",
    "df.head()"
   ]
  },
  {
   "cell_type": "markdown",
   "id": "3abfc7da",
   "metadata": {},
   "source": [
    "Data Preprocessing\n",
    "------------------"
   ]
  },
  {
   "cell_type": "code",
   "execution_count": 5,
   "id": "b53e9cf4",
   "metadata": {},
   "outputs": [
    {
     "name": "stdout",
     "output_type": "stream",
     "text": [
      "Index(['id', 'work_year', 'experience_level', 'job_title', 'salary',\n",
      "       'salary_currency', 'salary_in_usd', 'employee_residence',\n",
      "       'remote_ratio', 'company_location', 'company_size', 'employment_type'],\n",
      "      dtype='object')\n"
     ]
    }
   ],
   "source": [
    "# Clean column names \n",
    "df = df.clean_names()\n",
    "print(df.columns)"
   ]
  },
  {
   "cell_type": "code",
   "execution_count": 7,
   "id": "c777dfb1",
   "metadata": {},
   "outputs": [
    {
     "data": {
      "text/plain": [
       "id                    0\n",
       "work_year             0\n",
       "experience_level      0\n",
       "job_title             0\n",
       "salary                0\n",
       "salary_currency       0\n",
       "salary_in_usd         0\n",
       "employee_residence    0\n",
       "remote_ratio          0\n",
       "company_location      0\n",
       "company_size          0\n",
       "employment_type       0\n",
       "dtype: int64"
      ]
     },
     "execution_count": 7,
     "metadata": {},
     "output_type": "execute_result"
    }
   ],
   "source": [
    "# Check for missing values \n",
    "df.isnull().sum()"
   ]
  },
  {
   "cell_type": "code",
   "execution_count": 9,
   "id": "7cc47a98",
   "metadata": {},
   "outputs": [
    {
     "data": {
      "text/plain": [
       "0"
      ]
     },
     "execution_count": 9,
     "metadata": {},
     "output_type": "execute_result"
    }
   ],
   "source": [
    "# Check for duplicates\n",
    "sum(df.duplicated())"
   ]
  },
  {
   "cell_type": "markdown",
   "id": "10062555",
   "metadata": {},
   "source": [
    "Descriptive Statistics \n",
    "----------------------\n"
   ]
  },
  {
   "cell_type": "code",
   "execution_count": 10,
   "id": "47e3d099",
   "metadata": {},
   "outputs": [
    {
     "data": {
      "text/plain": [
       "count       607.000000\n",
       "mean     112297.869852\n",
       "std       70957.259411\n",
       "min        2859.000000\n",
       "25%       62726.000000\n",
       "50%      101570.000000\n",
       "75%      150000.000000\n",
       "max      600000.000000\n",
       "Name: salary_in_usd, dtype: float64"
      ]
     },
     "execution_count": 10,
     "metadata": {},
     "output_type": "execute_result"
    }
   ],
   "source": [
    "df['salary_in_usd'].describe()"
   ]
  },
  {
   "cell_type": "markdown",
   "id": "a26b9e53",
   "metadata": {},
   "source": [
    "The summary of salary in USD gives a good overview to the distribution of salary in USD in the dataset. The range of salary is quite wide. The salary ranges from 2,859.00 USD to 600,000.00 USD. The average salary is 112,298.00 USD. 25% of the salary is lower than 62,726.00 USD(1st Quartile) and 75% of the salaries is higher than 150,000.00 USD(3rd Quartile).\n",
    "The average salary is greater than the median salary which indicates that it is a positively skewed, hence it is skewed to the right."
   ]
  },
  {
   "cell_type": "markdown",
   "id": "d504f673",
   "metadata": {},
   "source": [
    "Exploratory Data Analysis\n",
    "-------------------------"
   ]
  },
  {
   "cell_type": "markdown",
   "id": "ec208511",
   "metadata": {},
   "source": [
    "Bar plot - experience level"
   ]
  },
  {
   "cell_type": "code",
   "execution_count": 12,
   "id": "9af77c27",
   "metadata": {},
   "outputs": [
    {
     "data": {
      "image/png": "[encoded data removed]",
      "text/plain": [
       "<Figure size 640x480 with 1 Axes>"
      ]
     },
     "metadata": {},
     "output_type": "display_data"
    }
   ],
   "source": [
    "sns.countplot(data = df, x = 'experience_level')\n",
    "plt.title('Count plot of Experience Level')\n",
    "plt.xlabel('Experience Level')\n",
    "plt.ylabel('Count')\n",
    "plt.show()"
   ]
  },
  {
   "cell_type": "markdown",
   "id": "1ac97ef9",
   "metadata": {},
   "source": [
    "This Counts plot depicts the distribution of experience levels among a group of individuals. The x-axis represents different experience levels, while the y-axis shows the count of individuals in each category. Here's a breakdown of the information presented: \n",
    "- EN (Entry): this is the third largest group with approximately 100 individuals\n",
    "- EX (Expert): this is the smallest group with approximately 50 individuals.\n",
    "- MI (Mid-level): this is the second-largest group with approximately 200 individuals.\n",
    "- SE (Senior): this is the largest group with  over 250 individuals."
   ]
  },
  {
   "cell_type": "markdown",
   "id": "97113352",
   "metadata": {},
   "source": [
    "Bar plot - company size and salary in usd"
   ]
  },
  {
   "cell_type": "code",
   "execution_count": null,
   "id": "82052174",
   "metadata": {},
   "outputs": [
    {
     "data": {
      "image/png": "[encoded data removed]",
      "text/plain": [
       "<Figure size 640x480 with 1 Axes>"
      ]
     },
     "metadata": {},
     "output_type": "display_data"
    }
   ],
   "source": [
    "# # Step 1: Group the data and compute mean and standard deviation\n",
    "# grouped = df.groupby('company_size')['salary_in_usd'].agg(['mean', 'std']).reset_index()\n",
    "\n",
    "# # Step 2: Create the custom palette\n",
    "# custom_palette = {'L': 'skyblue', 'M': 'lightgreen', 'S': 'salmon'}\n",
    "\n",
    "# # Step 3: Map colors to company sizes\n",
    "# colors = grouped['company_size'].map(custom_palette)\n",
    "\n",
    "# # Step 4: Plot using matplotlib directly\n",
    "# plt.figure(figsize=(8, 6))\n",
    "# plt.bar(\n",
    "#     x=grouped['company_size'],\n",
    "#     height=grouped['mean'],\n",
    "#     yerr=grouped['std'],\n",
    "#     color=colors,\n",
    "#     capsize=10,\n",
    "#     edgecolor='black'\n",
    "# )\n",
    "\n",
    "# # Step 5: Add titles and labels\n",
    "# plt.title('Company Size by Salary (USD)', fontsize=14)\n",
    "# plt.xlabel('Company Size', fontsize=12)\n",
    "# plt.ylabel('Average Salary (USD)', fontsize=12)\n",
    "\n",
    "# # Step 6: Show the plot\n",
    "# plt.tight_layout()\n",
    "# plt.show()\n",
    "\n",
    "custom_palette = {'L': 'skyblue', 'M': 'lightgreen', 'S': 'salmon'}\n",
    "\n",
    "sns.barplot(data=df, x='company_size', y= 'salary_in_usd', palette=custom_palette, ci=None)\n",
    "plt.title('Company Size by Salary (USD)')\n",
    "plt.xlabel('Company Size')\n",
    "plt.ylabel('Salary (USD)')\n",
    "plt.show()"
   ]
  },
  {
   "cell_type": "markdown",
   "id": "3b6e89c6",
   "metadata": {},
   "source": [
    "The bar plot illustrates the relationship between company size and salary in USD. The x-axis denotes various company sizes, while the y-axis shows salary amounts in USD. The data can be summarized as follows:\n",
    "- Large (L): Offers the highest salary among the three company sizes.\n",
    "- Medium (M): Provides a moderate salary, ranking second after large companies.\n",
    "- Small (S): Has the lowest salary compared to both medium and large companies.\n",
    "\n",
    "There could be outliers in the salary data, particularly in the large company category, where some salaries are significantly higher than the rest. This suggests that while large companies generally pay more, there are exceptional cases that skew the average salary upwards."
   ]
  },
  {
   "cell_type": "code",
   "execution_count": null,
   "id": "0a8d6a5f",
   "metadata": {},
   "outputs": [
    {
     "data": {
      "image/png": "[encoded data removed]",
      "text/plain": [
       "<Figure size 640x480 with 1 Axes>"
      ]
     },
     "metadata": {},
     "output_type": "display_data"
    }
   ],
   "source": [
    "sns.boxplot(data=df, x='company_size', y='salary_in_usd',palette='Set2')\n",
    "plt.title('Company Size by Salary (USD)')\n",
    "plt.xlabel('Company Size')\n",
    "plt.ylabel('Salary(USD)')\n",
    "plt.show()"
   ]
  },
  {
   "cell_type": "markdown",
   "id": "5732dfe6",
   "metadata": {},
   "source": [
    "The boxplot illustrates the distribution of salaries across different company sizes. The x-axis represents company sizes, while the y-axis shows salary amounts in USD. The boxplot provides a visual summary of the data, including the median, quartiles and potential outliers. Here's a breakdown of the information presented:\n",
    "- Large (L): The median salary is around 100,000 USD, with a range extending up to 600,000 USD. There are several outliers above the upper whisker, indicating exceptionally high salaries.\n",
    "- Medium (M): The median salary is approximately 100,000 USD, with a range extending up to 300,000 USD. There are a few outliers above the upper whisker, but they are less pronounced than in the large company category.\n",
    "- Small (S): The median salary is around 70,000 USD, with a range extending up to 200,000 USD. There are fewer outliers compared to the other two categories, indicating a more consistent salary distribution."
   ]
  },
  {
   "cell_type": "code",
   "execution_count": null,
   "id": "da5452f1",
   "metadata": {},
   "outputs": [],
   "source": []
  }
 ],
 "metadata": {
  "kernelspec": {
   "display_name": "Python 3 (ipykernel)",
   "language": "python",
   "name": "python3"
  },
  "language_info": {
   "codemirror_mode": {
    "name": "ipython",
    "version": 3
   },
   "file_extension": ".py",
   "mimetype": "text/x-python",
   "name": "python",
   "nbconvert_exporter": "python",
   "pygments_lexer": "ipython3",
   "version": "3.12.3"
  }
 },
 "nbformat": 4,
 "nbformat_minor": 5
}
